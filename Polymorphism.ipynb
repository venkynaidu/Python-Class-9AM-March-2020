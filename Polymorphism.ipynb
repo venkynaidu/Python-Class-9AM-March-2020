{
 "cells": [
  {
   "cell_type": "code",
   "execution_count": null,
   "metadata": {},
   "outputs": [],
   "source": [
    "Poly means many, Morphs means forms.\n"
   ]
  },
  {
   "cell_type": "markdown",
   "metadata": {},
   "source": [
    "Ex: + Operator acts as add and used for concatination of strings.\n",
    "    \n",
    "Ex: * Operator acts as multiplication and also used as repetition operator.\n",
    "    \n",
    "\n",
    "Example: The same method with different implementations in parent and child class.\n",
    "    "
   ]
  },
  {
   "cell_type": "markdown",
   "metadata": {},
   "source": [
    "1. Duck typing philosohpy method.\n",
    "\n",
    "2. Overloading\n",
    "\n",
    "    a. Operator overloading\n",
    "    \n",
    "    b. Method Overloading\n",
    "    \n",
    "    c. Constructor overloading\n",
    "    \n",
    "3. Overriding\n",
    "\n",
    "    a. Method Overriding\n",
    "    \n",
    "    b. Constructor overriding\n",
    "    "
   ]
  },
  {
   "cell_type": "markdown",
   "metadata": {},
   "source": [
    "# 1. Ducktyping Philosophy Method:"
   ]
  },
  {
   "cell_type": "code",
   "execution_count": 1,
   "metadata": {},
   "outputs": [
    {
     "name": "stdout",
     "output_type": "stream",
     "text": [
      " Quack...Quack...\n",
      "Bow Bow...\n",
      "Maoew...maoew...\n"
     ]
    }
   ],
   "source": [
    "class Duck:\n",
    "    def talk(self):\n",
    "        print(\" Quack...Quack...\")\n",
    "class Dog:\n",
    "    def talk(self):\n",
    "        print(\"Bow Bow...\")\n",
    "class Cat:\n",
    "    def talk(self):\n",
    "        print(\"Maoew...maoew...\")\n",
    "    \n",
    "def f1(obj):\n",
    "    obj.talk()\n",
    "\n",
    "l=[Duck(),Dog(),Cat()]\n",
    "for obj in l:\n",
    "    f1(obj)\n",
    "    \n"
   ]
  },
  {
   "cell_type": "code",
   "execution_count": 2,
   "metadata": {},
   "outputs": [
    {
     "name": "stdout",
     "output_type": "stream",
     "text": [
      " Quack...Quack...\n"
     ]
    },
    {
     "ename": "AttributeError",
     "evalue": "'Dog' object has no attribute 'talk'",
     "output_type": "error",
     "traceback": [
      "\u001b[1;31m---------------------------------------------------------------------------\u001b[0m",
      "\u001b[1;31mAttributeError\u001b[0m                            Traceback (most recent call last)",
      "\u001b[1;32m<ipython-input-2-17a818e934f4>\u001b[0m in \u001b[0;36m<module>\u001b[1;34m\u001b[0m\n\u001b[0;32m     14\u001b[0m \u001b[0ml\u001b[0m\u001b[1;33m=\u001b[0m\u001b[1;33m[\u001b[0m\u001b[0mDuck\u001b[0m\u001b[1;33m(\u001b[0m\u001b[1;33m)\u001b[0m\u001b[1;33m,\u001b[0m\u001b[0mDog\u001b[0m\u001b[1;33m(\u001b[0m\u001b[1;33m)\u001b[0m\u001b[1;33m,\u001b[0m\u001b[0mCat\u001b[0m\u001b[1;33m(\u001b[0m\u001b[1;33m)\u001b[0m\u001b[1;33m]\u001b[0m\u001b[1;33m\u001b[0m\u001b[1;33m\u001b[0m\u001b[0m\n\u001b[0;32m     15\u001b[0m \u001b[1;32mfor\u001b[0m \u001b[0mobj\u001b[0m \u001b[1;32min\u001b[0m \u001b[0ml\u001b[0m\u001b[1;33m:\u001b[0m\u001b[1;33m\u001b[0m\u001b[1;33m\u001b[0m\u001b[0m\n\u001b[1;32m---> 16\u001b[1;33m     \u001b[0mf1\u001b[0m\u001b[1;33m(\u001b[0m\u001b[0mobj\u001b[0m\u001b[1;33m)\u001b[0m\u001b[1;33m\u001b[0m\u001b[1;33m\u001b[0m\u001b[0m\n\u001b[0m\u001b[0;32m     17\u001b[0m \u001b[1;33m\u001b[0m\u001b[0m\n",
      "\u001b[1;32m<ipython-input-2-17a818e934f4>\u001b[0m in \u001b[0;36mf1\u001b[1;34m(obj)\u001b[0m\n\u001b[0;32m     10\u001b[0m \u001b[1;33m\u001b[0m\u001b[0m\n\u001b[0;32m     11\u001b[0m \u001b[1;32mdef\u001b[0m \u001b[0mf1\u001b[0m\u001b[1;33m(\u001b[0m\u001b[0mobj\u001b[0m\u001b[1;33m)\u001b[0m\u001b[1;33m:\u001b[0m\u001b[1;33m\u001b[0m\u001b[1;33m\u001b[0m\u001b[0m\n\u001b[1;32m---> 12\u001b[1;33m     \u001b[0mobj\u001b[0m\u001b[1;33m.\u001b[0m\u001b[0mtalk\u001b[0m\u001b[1;33m(\u001b[0m\u001b[1;33m)\u001b[0m\u001b[1;33m\u001b[0m\u001b[1;33m\u001b[0m\u001b[0m\n\u001b[0m\u001b[0;32m     13\u001b[0m \u001b[1;33m\u001b[0m\u001b[0m\n\u001b[0;32m     14\u001b[0m \u001b[0ml\u001b[0m\u001b[1;33m=\u001b[0m\u001b[1;33m[\u001b[0m\u001b[0mDuck\u001b[0m\u001b[1;33m(\u001b[0m\u001b[1;33m)\u001b[0m\u001b[1;33m,\u001b[0m\u001b[0mDog\u001b[0m\u001b[1;33m(\u001b[0m\u001b[1;33m)\u001b[0m\u001b[1;33m,\u001b[0m\u001b[0mCat\u001b[0m\u001b[1;33m(\u001b[0m\u001b[1;33m)\u001b[0m\u001b[1;33m]\u001b[0m\u001b[1;33m\u001b[0m\u001b[1;33m\u001b[0m\u001b[0m\n",
      "\u001b[1;31mAttributeError\u001b[0m: 'Dog' object has no attribute 'talk'"
     ]
    }
   ],
   "source": [
    "class Duck:\n",
    "    def talk(self):\n",
    "        print(\" Quack...Quack...\")\n",
    "class Dog:\n",
    "    def bark(self):\n",
    "        print(\"Bow Bow...\")\n",
    "class Cat:\n",
    "    def talk(self):\n",
    "        print(\"Maoew...maoew...\")\n",
    "    \n",
    "def f1(obj):\n",
    "    obj.talk()\n",
    "\n",
    "l=[Duck(),Dog(),Cat()]\n",
    "for obj in l:\n",
    "    f1(obj)\n",
    "    "
   ]
  },
  {
   "cell_type": "code",
   "execution_count": 6,
   "metadata": {},
   "outputs": [
    {
     "name": "stdout",
     "output_type": "stream",
     "text": [
      " Quack...Quack...\n",
      "Hello... Hi...\n",
      "Bow...Bow...\n"
     ]
    }
   ],
   "source": [
    "class Duck:\n",
    "    def talk(self):\n",
    "        print(\" Quack...Quack...\")\n",
    "class Human:\n",
    "    def talk(self):\n",
    "        print(\"Hello... Hi...\")\n",
    "class Dog:\n",
    "    def bark(self):\n",
    "        print(\"Bow...Bow...\")\n",
    "        \n",
    "def f1(obj):\n",
    "    if hasattr(obj,'talk'):\n",
    "        obj.talk()\n",
    "    elif hasattr(obj,'bark'):\n",
    "        obj.bark()\n",
    "    \n",
    "l=[Duck(),Human(),Dog()]\n",
    "for obj in l:\n",
    "    f1(obj)"
   ]
  },
  {
   "cell_type": "markdown",
   "metadata": {},
   "source": [
    "# Overloading:"
   ]
  },
  {
   "cell_type": "markdown",
   "metadata": {},
   "source": [
    "### 1. Operator Overloading:"
   ]
  },
  {
   "cell_type": "code",
   "execution_count": 7,
   "metadata": {},
   "outputs": [
    {
     "ename": "TypeError",
     "evalue": "unsupported operand type(s) for +: 'Book' and 'Book'",
     "output_type": "error",
     "traceback": [
      "\u001b[1;31m---------------------------------------------------------------------------\u001b[0m",
      "\u001b[1;31mTypeError\u001b[0m                                 Traceback (most recent call last)",
      "\u001b[1;32m<ipython-input-7-a66e0f46ddc7>\u001b[0m in \u001b[0;36m<module>\u001b[1;34m\u001b[0m\n\u001b[0;32m      5\u001b[0m \u001b[0mb1\u001b[0m\u001b[1;33m=\u001b[0m\u001b[0mBook\u001b[0m\u001b[1;33m(\u001b[0m\u001b[1;36m100\u001b[0m\u001b[1;33m)\u001b[0m\u001b[1;33m\u001b[0m\u001b[1;33m\u001b[0m\u001b[0m\n\u001b[0;32m      6\u001b[0m \u001b[0mb2\u001b[0m\u001b[1;33m=\u001b[0m\u001b[0mBook\u001b[0m\u001b[1;33m(\u001b[0m\u001b[1;36m200\u001b[0m\u001b[1;33m)\u001b[0m\u001b[1;33m\u001b[0m\u001b[1;33m\u001b[0m\u001b[0m\n\u001b[1;32m----> 7\u001b[1;33m \u001b[0mprint\u001b[0m\u001b[1;33m(\u001b[0m\u001b[0mb1\u001b[0m\u001b[1;33m+\u001b[0m\u001b[0mb2\u001b[0m\u001b[1;33m)\u001b[0m\u001b[1;33m\u001b[0m\u001b[1;33m\u001b[0m\u001b[0m\n\u001b[0m",
      "\u001b[1;31mTypeError\u001b[0m: unsupported operand type(s) for +: 'Book' and 'Book'"
     ]
    }
   ],
   "source": [
    "#Example prgram to understand oeprator overloading\n",
    "class Book:\n",
    "    def __init__(self,pages):\n",
    "        self.pages=pages\n",
    "b1=Book(100)\n",
    "b2=Book(200)\n",
    "print(b1+b2)"
   ]
  },
  {
   "cell_type": "code",
   "execution_count": 15,
   "metadata": {},
   "outputs": [
    {
     "name": "stdout",
     "output_type": "stream",
     "text": [
      "300\n"
     ]
    }
   ],
   "source": [
    "class Book:\n",
    "    def __init__(self,pages):\n",
    "        self.pages=pages\n",
    "    def __add__(self,other):\n",
    "        return self.pages+other.pages\n",
    "b1=Book(100)\n",
    "b2=Book(200)\n",
    "print(b1+b2)"
   ]
  },
  {
   "cell_type": "code",
   "execution_count": 28,
   "metadata": {},
   "outputs": [
    {
     "name": "stdout",
     "output_type": "stream",
     "text": [
      "90<98 False\n"
     ]
    },
    {
     "ename": "TypeError",
     "evalue": "unsupported operand type(s) for +: 'Student' and 'Student'",
     "output_type": "error",
     "traceback": [
      "\u001b[1;31m---------------------------------------------------------------------------\u001b[0m",
      "\u001b[1;31mTypeError\u001b[0m                                 Traceback (most recent call last)",
      "\u001b[1;32m<ipython-input-28-034d5d401dda>\u001b[0m in \u001b[0;36m<module>\u001b[1;34m\u001b[0m\n\u001b[0;32m     13\u001b[0m \u001b[0ms1\u001b[0m\u001b[1;33m=\u001b[0m\u001b[0mStudent\u001b[0m\u001b[1;33m(\u001b[0m\u001b[1;34m\"Venky\"\u001b[0m\u001b[1;33m,\u001b[0m\u001b[1;36m90\u001b[0m\u001b[1;33m)\u001b[0m\u001b[1;33m\u001b[0m\u001b[1;33m\u001b[0m\u001b[0m\n\u001b[0;32m     14\u001b[0m \u001b[0ms2\u001b[0m\u001b[1;33m=\u001b[0m\u001b[0mStudent\u001b[0m\u001b[1;33m(\u001b[0m\u001b[1;34m\"Pasha\"\u001b[0m\u001b[1;33m,\u001b[0m\u001b[1;36m98\u001b[0m\u001b[1;33m)\u001b[0m\u001b[1;33m\u001b[0m\u001b[1;33m\u001b[0m\u001b[0m\n\u001b[1;32m---> 15\u001b[1;33m \u001b[0mprint\u001b[0m\u001b[1;33m(\u001b[0m\u001b[0ms1\u001b[0m\u001b[1;33m+\u001b[0m\u001b[0ms2\u001b[0m\u001b[1;33m)\u001b[0m\u001b[1;33m\u001b[0m\u001b[1;33m\u001b[0m\u001b[0m\n\u001b[0m",
      "\u001b[1;31mTypeError\u001b[0m: unsupported operand type(s) for +: 'Student' and 'Student'"
     ]
    }
   ],
   "source": [
    "#example of operator overloading with <, >=\n",
    "\n",
    "class Student:\n",
    "    def __init__(self,name,marks):\n",
    "        self.name=name\n",
    "        self.marks=marks\n",
    "    def __lt__(self,other):\n",
    "        return self.marks<other.marks\n",
    "    def __ge__(self,other):\n",
    "        return self.marks>=other.marks\n",
    "    \n",
    "print(\"90<98\",90>98)\n",
    "s1=Student(\"Venky\",90)\n",
    "s2=Student(\"Pasha\",98)\n",
    "print(s1+s2)\n"
   ]
  },
  {
   "cell_type": "markdown",
   "metadata": {},
   "source": [
    "# 2. Method Overloading"
   ]
  },
  {
   "cell_type": "markdown",
   "metadata": {},
   "source": [
    "If 2 methods having same name with different type of arguments then those methods are called as method overloading"
   ]
  },
  {
   "cell_type": "markdown",
   "metadata": {},
   "source": [
    "In python method overloading is not possible.\n",
    "\n",
    "If we try to declare two methods with same name with different arguments , last method will be considered as method to execute."
   ]
  },
  {
   "cell_type": "code",
   "execution_count": 5,
   "metadata": {},
   "outputs": [
    {
     "name": "stdout",
     "output_type": "stream",
     "text": [
      "With 2 arguments.\n"
     ]
    }
   ],
   "source": [
    "#Example program \n",
    "class Test:\n",
    "    def m1(self):\n",
    "        print(\"No arguments method\")\n",
    "    def m1(self,a):\n",
    "        print(\"With one argument\")\n",
    "    def m1(self,a,b):\n",
    "        print(\"With 2 arguments.\")\n",
    "        \n",
    "t=Test()\n",
    "t.m1(10,20)"
   ]
  },
  {
   "cell_type": "code",
   "execution_count": 7,
   "metadata": {},
   "outputs": [
    {
     "name": "stdout",
     "output_type": "stream",
     "text": [
      "No arguments method\n"
     ]
    }
   ],
   "source": [
    "#Example program \n",
    "class Test:\n",
    "    \n",
    "    def m1(self,a):\n",
    "        print(\"With one argument\")\n",
    "    def m1(self,a,b):\n",
    "        print(\"With 2 arguments.\")\n",
    "    def m1(self):\n",
    "        print(\"No arguments method\")      \n",
    "        \n",
    "t=Test()\n",
    "t.m1()"
   ]
  },
  {
   "cell_type": "markdown",
   "metadata": {},
   "source": [
    "### How we can handle method overloading requirements in python:"
   ]
  },
  {
   "cell_type": "markdown",
   "metadata": {},
   "source": [
    "we can handle the problem of method overloading concept is by using default arguments or variable length of arguments."
   ]
  },
  {
   "cell_type": "code",
   "execution_count": 8,
   "metadata": {},
   "outputs": [
    {
     "name": "stdout",
     "output_type": "stream",
     "text": [
      "Please enter 2 or 3 values \n"
     ]
    }
   ],
   "source": [
    "#Example program to handle method overloading with default arguments\n",
    "class Test:\n",
    "    def sum(self,a=None,b=None,c=None):\n",
    "        if a!=None and b!=None and c!=None:\n",
    "            print(\"Sum is:\",a+b+c)\n",
    "        elif a!=None and b!=None:\n",
    "            print(\"Sum is:\",a+b)\n",
    "        else:\n",
    "            print(\"Please enter 2 or 3 values \")\n",
    "t=Test()\n",
    "t.sum()\n",
    "        "
   ]
  },
  {
   "cell_type": "code",
   "execution_count": 9,
   "metadata": {},
   "outputs": [
    {
     "name": "stdout",
     "output_type": "stream",
     "text": [
      "Sum is: 30\n"
     ]
    }
   ],
   "source": [
    "#Example program to handle method overloading with default arguments\n",
    "class Test:\n",
    "    def sum(self,a=None,b=None,c=None):\n",
    "        if a!=None and b!=None and c!=None:\n",
    "            print(\"Sum is:\",a+b+c)\n",
    "        elif a!=None and b!=None:\n",
    "            print(\"Sum is:\",a+b)\n",
    "        else:\n",
    "            print(\"Please enter 2 or 3 values \")\n",
    "t=Test()\n",
    "t.sum(10,20)\n",
    "        "
   ]
  },
  {
   "cell_type": "code",
   "execution_count": 10,
   "metadata": {},
   "outputs": [
    {
     "name": "stdout",
     "output_type": "stream",
     "text": [
      "Sum is: 70\n"
     ]
    }
   ],
   "source": [
    "#Example program to handle method overloading with default arguments\n",
    "class Test:\n",
    "    def sum(self,a=None,b=None,c=None):\n",
    "        if a!=None and b!=None and c!=None:\n",
    "            print(\"Sum is:\",a+b+c)\n",
    "        elif a!=None and b!=None:\n",
    "            print(\"Sum is:\",a+b)\n",
    "        else:\n",
    "            print(\"Please enter 2 or 3 values \")\n",
    "t=Test()\n",
    "t.sum(10,20,40)\n",
    "        "
   ]
  },
  {
   "cell_type": "code",
   "execution_count": 14,
   "metadata": {},
   "outputs": [
    {
     "ename": "TypeError",
     "evalue": "sum() takes from 1 to 4 positional arguments but 5 were given",
     "output_type": "error",
     "traceback": [
      "\u001b[1;31m---------------------------------------------------------------------------\u001b[0m",
      "\u001b[1;31mTypeError\u001b[0m                                 Traceback (most recent call last)",
      "\u001b[1;32m<ipython-input-14-c09e48ba183b>\u001b[0m in \u001b[0;36m<module>\u001b[1;34m\u001b[0m\n\u001b[0;32m      9\u001b[0m             \u001b[0mprint\u001b[0m\u001b[1;33m(\u001b[0m\u001b[1;34m\"Please enter 2 or 3 values \"\u001b[0m\u001b[1;33m)\u001b[0m\u001b[1;33m\u001b[0m\u001b[1;33m\u001b[0m\u001b[0m\n\u001b[0;32m     10\u001b[0m \u001b[0mt\u001b[0m\u001b[1;33m=\u001b[0m\u001b[0mTest\u001b[0m\u001b[1;33m(\u001b[0m\u001b[1;33m)\u001b[0m\u001b[1;33m\u001b[0m\u001b[1;33m\u001b[0m\u001b[0m\n\u001b[1;32m---> 11\u001b[1;33m \u001b[0mt\u001b[0m\u001b[1;33m.\u001b[0m\u001b[0msum\u001b[0m\u001b[1;33m(\u001b[0m\u001b[1;36m10\u001b[0m\u001b[1;33m,\u001b[0m\u001b[1;36m20\u001b[0m\u001b[1;33m,\u001b[0m\u001b[1;36m40\u001b[0m\u001b[1;33m,\u001b[0m\u001b[1;36m50\u001b[0m\u001b[1;33m)\u001b[0m\u001b[1;33m\u001b[0m\u001b[1;33m\u001b[0m\u001b[0m\n\u001b[0m",
      "\u001b[1;31mTypeError\u001b[0m: sum() takes from 1 to 4 positional arguments but 5 were given"
     ]
    }
   ],
   "source": [
    "#Example program to handle method overloading with default arguments\n",
    "class Test:\n",
    "    def sum(self,a=None,b=None,c=None):\n",
    "        if a!=None and b!=None and c!=None:\n",
    "            print(\"Sum is:\",a+b+c)\n",
    "        elif a!=None and b!=None:\n",
    "            print(\"Sum is:\",a+b)\n",
    "        else:\n",
    "            print(\"Please enter 2 or 3 values \")\n",
    "t=Test()\n",
    "t.sum(10,20,40,50)"
   ]
  },
  {
   "cell_type": "code",
   "execution_count": 11,
   "metadata": {},
   "outputs": [
    {
     "name": "stdout",
     "output_type": "stream",
     "text": [
      "Sum is : 10\n"
     ]
    }
   ],
   "source": [
    "#example program to handle method overloading with variable length of arguments\n",
    "class Test:\n",
    "    def sum(self,*n):\n",
    "        total=0\n",
    "        for i in n:\n",
    "            total=total+i\n",
    "        print(\"Sum is :\",total)\n",
    "t=Test()\n",
    "t.sum(10)"
   ]
  },
  {
   "cell_type": "code",
   "execution_count": 12,
   "metadata": {},
   "outputs": [
    {
     "name": "stdout",
     "output_type": "stream",
     "text": [
      "Sum is : 0\n"
     ]
    }
   ],
   "source": [
    "#example program to handle method overloading with variable length of arguments\n",
    "class Test:\n",
    "    def sum(self,*n):\n",
    "        total=0\n",
    "        for i in n:\n",
    "            total=total+i\n",
    "        print(\"Sum is :\",total)\n",
    "t=Test()\n",
    "t.sum()"
   ]
  },
  {
   "cell_type": "code",
   "execution_count": 13,
   "metadata": {},
   "outputs": [
    {
     "name": "stdout",
     "output_type": "stream",
     "text": [
      "Sum is : 250\n"
     ]
    }
   ],
   "source": [
    "#example program to handle method overloading with variable length of arguments\n",
    "class Test:\n",
    "    def sum(self,*n):\n",
    "        total=0\n",
    "        for i in n:\n",
    "            total=total+i\n",
    "        print(\"Sum is :\",total)\n",
    "t=Test()\n",
    "t.sum(10,20,40,50,60,70)"
   ]
  },
  {
   "cell_type": "markdown",
   "metadata": {},
   "source": [
    "# 3. Constructor overloading"
   ]
  },
  {
   "cell_type": "markdown",
   "metadata": {},
   "source": [
    "Constructor overloading is not possible in python.\n",
    "\n",
    "if we define multiple constructors then last constructor will be considered."
   ]
  },
  {
   "cell_type": "code",
   "execution_count": 15,
   "metadata": {},
   "outputs": [
    {
     "ename": "TypeError",
     "evalue": "__init__() missing 2 required positional arguments: 'a' and 'b'",
     "output_type": "error",
     "traceback": [
      "\u001b[1;31m---------------------------------------------------------------------------\u001b[0m",
      "\u001b[1;31mTypeError\u001b[0m                                 Traceback (most recent call last)",
      "\u001b[1;32m<ipython-input-15-73d59f137e6c>\u001b[0m in \u001b[0;36m<module>\u001b[1;34m\u001b[0m\n\u001b[0;32m      9\u001b[0m \u001b[1;33m\u001b[0m\u001b[0m\n\u001b[0;32m     10\u001b[0m \u001b[1;33m\u001b[0m\u001b[0m\n\u001b[1;32m---> 11\u001b[1;33m \u001b[0mt\u001b[0m\u001b[1;33m=\u001b[0m\u001b[0mTest\u001b[0m\u001b[1;33m(\u001b[0m\u001b[1;33m)\u001b[0m\u001b[1;33m\u001b[0m\u001b[1;33m\u001b[0m\u001b[0m\n\u001b[0m",
      "\u001b[1;31mTypeError\u001b[0m: __init__() missing 2 required positional arguments: 'a' and 'b'"
     ]
    }
   ],
   "source": [
    "#Example program of constructor overloading\n",
    "class Test:\n",
    "    def __init__(self):\n",
    "        print(\"With no arguments...\")\n",
    "    def __init__(self,a):\n",
    "        print(\"With one argument....\")\n",
    "    def __init__(self,a,b):\n",
    "        print(\"with two arguments....\")\n",
    "        \n",
    "        \n",
    "t=Test()"
   ]
  },
  {
   "cell_type": "code",
   "execution_count": 16,
   "metadata": {},
   "outputs": [
    {
     "ename": "TypeError",
     "evalue": "__init__() missing 1 required positional argument: 'b'",
     "output_type": "error",
     "traceback": [
      "\u001b[1;31m---------------------------------------------------------------------------\u001b[0m",
      "\u001b[1;31mTypeError\u001b[0m                                 Traceback (most recent call last)",
      "\u001b[1;32m<ipython-input-16-0ce456927848>\u001b[0m in \u001b[0;36m<module>\u001b[1;34m\u001b[0m\n\u001b[0;32m      9\u001b[0m \u001b[1;33m\u001b[0m\u001b[0m\n\u001b[0;32m     10\u001b[0m \u001b[1;33m\u001b[0m\u001b[0m\n\u001b[1;32m---> 11\u001b[1;33m \u001b[0mt\u001b[0m\u001b[1;33m=\u001b[0m\u001b[0mTest\u001b[0m\u001b[1;33m(\u001b[0m\u001b[1;36m10\u001b[0m\u001b[1;33m)\u001b[0m\u001b[1;33m\u001b[0m\u001b[1;33m\u001b[0m\u001b[0m\n\u001b[0m",
      "\u001b[1;31mTypeError\u001b[0m: __init__() missing 1 required positional argument: 'b'"
     ]
    }
   ],
   "source": [
    "#Example program of constructor overloading\n",
    "class Test:\n",
    "    def __init__(self):\n",
    "        print(\"With no arguments...\")\n",
    "    def __init__(self,a):\n",
    "        print(\"With one argument....\")\n",
    "    def __init__(self,a,b):\n",
    "        print(\"with two arguments....\")\n",
    "        \n",
    "        \n",
    "t=Test(10)"
   ]
  },
  {
   "cell_type": "code",
   "execution_count": 17,
   "metadata": {},
   "outputs": [
    {
     "name": "stdout",
     "output_type": "stream",
     "text": [
      "with two arguments....\n"
     ]
    }
   ],
   "source": [
    "#Example program of constructor overloading\n",
    "class Test:\n",
    "    def __init__(self):\n",
    "        print(\"With no arguments...\")\n",
    "    def __init__(self,a):\n",
    "        print(\"With one argument....\")\n",
    "    def __init__(self,a,b):\n",
    "        print(\"with two arguments....\")\n",
    "        \n",
    "        \n",
    "t=Test(10,20)"
   ]
  },
  {
   "cell_type": "code",
   "execution_count": 18,
   "metadata": {},
   "outputs": [
    {
     "name": "stdout",
     "output_type": "stream",
     "text": [
      "With no arguments...\n"
     ]
    }
   ],
   "source": [
    "#Example program of constructor overloading\n",
    "class Test:\n",
    "    \n",
    "    def __init__(self,a):\n",
    "        print(\"With one argument....\")\n",
    "    def __init__(self,a,b):\n",
    "        print(\"with two arguments....\")\n",
    "    def __init__(self):\n",
    "        print(\"With no arguments...\")\n",
    "        \n",
    "        \n",
    "t=Test()"
   ]
  },
  {
   "cell_type": "markdown",
   "metadata": {},
   "source": [
    "## Constructor overloading with Default arguments:"
   ]
  },
  {
   "cell_type": "code",
   "execution_count": 19,
   "metadata": {},
   "outputs": [
    {
     "name": "stdout",
     "output_type": "stream",
     "text": [
      "Constructor with 0 or 1 or 2 or 3 arguments....\n"
     ]
    }
   ],
   "source": [
    "#Example program for constructor overloading with defualt arguments\n",
    "class Test:\n",
    "    def __init__(self,a=None,b=None,c=None):\n",
    "        print(\"Constructor with 0  arguments....\")\n",
    "        \n",
    "t=Test()"
   ]
  },
  {
   "cell_type": "code",
   "execution_count": 20,
   "metadata": {},
   "outputs": [
    {
     "name": "stdout",
     "output_type": "stream",
     "text": [
      "Constructor with 1  arguments....\n"
     ]
    }
   ],
   "source": [
    "#Example program for constructor overloading with defualt arguments\n",
    "class Test:\n",
    "    def __init__(self,a=None,b=None,c=None):\n",
    "        print(\"Constructor with 1  arguments....\")\n",
    "        \n",
    "t=Test(10)"
   ]
  },
  {
   "cell_type": "code",
   "execution_count": 21,
   "metadata": {},
   "outputs": [
    {
     "name": "stdout",
     "output_type": "stream",
     "text": [
      "Constructor with 2 arguments....\n"
     ]
    }
   ],
   "source": [
    "#Example program for constructor overloading with defualt arguments\n",
    "class Test:\n",
    "    def __init__(self,a=None,b=None,c=None):\n",
    "        print(\"Constructor with 2 arguments....\")\n",
    "        \n",
    "t=Test(20,30)"
   ]
  },
  {
   "cell_type": "code",
   "execution_count": 22,
   "metadata": {},
   "outputs": [
    {
     "name": "stdout",
     "output_type": "stream",
     "text": [
      "Constructor with 3  arguments....\n"
     ]
    }
   ],
   "source": [
    "#Example program for constructor overloading with defualt arguments\n",
    "class Test:\n",
    "    def __init__(self,a=None,b=None,c=None):\n",
    "        print(\"Constructor with 3  arguments....\")\n",
    "        \n",
    "t=Test(10,20,30)"
   ]
  },
  {
   "cell_type": "code",
   "execution_count": 23,
   "metadata": {},
   "outputs": [
    {
     "ename": "TypeError",
     "evalue": "__init__() takes from 1 to 4 positional arguments but 5 were given",
     "output_type": "error",
     "traceback": [
      "\u001b[1;31m---------------------------------------------------------------------------\u001b[0m",
      "\u001b[1;31mTypeError\u001b[0m                                 Traceback (most recent call last)",
      "\u001b[1;32m<ipython-input-23-345d8448b173>\u001b[0m in \u001b[0;36m<module>\u001b[1;34m\u001b[0m\n\u001b[0;32m      4\u001b[0m         \u001b[0mprint\u001b[0m\u001b[1;33m(\u001b[0m\u001b[1;34m\"Constructor with 4  arguments....\"\u001b[0m\u001b[1;33m)\u001b[0m\u001b[1;33m\u001b[0m\u001b[1;33m\u001b[0m\u001b[0m\n\u001b[0;32m      5\u001b[0m \u001b[1;33m\u001b[0m\u001b[0m\n\u001b[1;32m----> 6\u001b[1;33m \u001b[0mt\u001b[0m\u001b[1;33m=\u001b[0m\u001b[0mTest\u001b[0m\u001b[1;33m(\u001b[0m\u001b[1;36m10\u001b[0m\u001b[1;33m,\u001b[0m\u001b[1;36m20\u001b[0m\u001b[1;33m,\u001b[0m\u001b[1;36m30\u001b[0m\u001b[1;33m,\u001b[0m\u001b[1;36m40\u001b[0m\u001b[1;33m)\u001b[0m\u001b[1;33m\u001b[0m\u001b[1;33m\u001b[0m\u001b[0m\n\u001b[0m",
      "\u001b[1;31mTypeError\u001b[0m: __init__() takes from 1 to 4 positional arguments but 5 were given"
     ]
    }
   ],
   "source": [
    "#Example program for constructor overloading with defualt arguments\n",
    "class Test:\n",
    "    def __init__(self,a=None,b=None,c=None):\n",
    "        print(\"Constructor with 4  arguments....\")\n",
    "        \n",
    "t=Test(10,20,30,40)"
   ]
  },
  {
   "cell_type": "markdown",
   "metadata": {},
   "source": [
    "#### Constructor with varibale length of arguments:"
   ]
  },
  {
   "cell_type": "code",
   "execution_count": 24,
   "metadata": {},
   "outputs": [
    {
     "name": "stdout",
     "output_type": "stream",
     "text": [
      "Constructor with 0 arguments....\n"
     ]
    }
   ],
   "source": [
    "class Test:\n",
    "    def __init__(self,*n):\n",
    "        print(\"Constructor with 0 arguments....\")\n",
    "t=Test()"
   ]
  },
  {
   "cell_type": "code",
   "execution_count": 25,
   "metadata": {},
   "outputs": [
    {
     "name": "stdout",
     "output_type": "stream",
     "text": [
      "Constructor with 1 arguments....\n"
     ]
    }
   ],
   "source": [
    "class Test:\n",
    "    def __init__(self,*n):\n",
    "        print(\"Constructor with 1 arguments....\")\n",
    "t=Test(10)"
   ]
  },
  {
   "cell_type": "code",
   "execution_count": 26,
   "metadata": {},
   "outputs": [
    {
     "name": "stdout",
     "output_type": "stream",
     "text": [
      "Constructor with 7 arguments....\n"
     ]
    }
   ],
   "source": [
    "class Test:\n",
    "    def __init__(self,*n):\n",
    "        print(\"Constructor with 7 arguments....\")\n",
    "t=Test(10,20,30,40,50,60,70)"
   ]
  },
  {
   "cell_type": "markdown",
   "metadata": {},
   "source": [
    "# Method overriding:"
   ]
  },
  {
   "cell_type": "markdown",
   "metadata": {},
   "source": [
    "what ever members available in parent class are by default available to child class through inheritance."
   ]
  },
  {
   "cell_type": "markdown",
   "metadata": {},
   "source": [
    "If child class not satisified with parent class implementation then child class is allowed to redefine that method in the child class based on its requirements. This concept is classed method overriding."
   ]
  },
  {
   "cell_type": "code",
   "execution_count": 27,
   "metadata": {},
   "outputs": [
    {
     "name": "stdout",
     "output_type": "stream",
     "text": [
      "Gold+land+House+Car\n",
      "Sunny...\n"
     ]
    }
   ],
   "source": [
    "#Example program for method overriding\n",
    "class Parent:\n",
    "    def property(self):\n",
    "        print(\"Gold+land+House+Car\")\n",
    "    def marry(self):\n",
    "        print(\"Samantha....\")\n",
    "class Child(Parent):\n",
    "    def marry(self):\n",
    "        print(\"Sunny...\")\n",
    "        \n",
    "c=Child()\n",
    "c.property()\n",
    "c.marry()"
   ]
  },
  {
   "cell_type": "markdown",
   "metadata": {},
   "source": [
    "# super() method:"
   ]
  },
  {
   "cell_type": "code",
   "execution_count": 28,
   "metadata": {},
   "outputs": [
    {
     "name": "stdout",
     "output_type": "stream",
     "text": [
      "Employee name: Venky\n",
      "Employee age: 29\n",
      "Employee Number: 101\n",
      "Employee Salary: 28000\n",
      "Employee name: Pasha\n",
      "Employee age: 21\n",
      "Employee Number: 102\n",
      "Employee Salary: 20000\n"
     ]
    }
   ],
   "source": [
    "#Example program for constructor overriding using super method\n",
    "class Person:\n",
    "    def __init__(self,name,age):\n",
    "        self.name=name\n",
    "        self.age=age\n",
    "        \n",
    "class Employee(Person):\n",
    "    def __init__(self,name,age,eno,esal):\n",
    "        super().__init__(name,age)\n",
    "        self.eno=eno\n",
    "        self.esal=esal\n",
    "        \n",
    "    def display(self):\n",
    "        print(\"Employee name:\",self.name)\n",
    "        print(\"Employee age:\",self.age)\n",
    "        print(\"Employee Number:\",self.eno)\n",
    "        print(\"Employee Salary:\",self.esal)\n",
    "        \n",
    "        \n",
    "e1=Employee(\"Venky\",29,101,28000)\n",
    "e1.display()\n",
    "\n",
    "e2=Employee(\"Pasha\",21,102,20000)\n",
    "e2.display()"
   ]
  },
  {
   "cell_type": "code",
   "execution_count": null,
   "metadata": {},
   "outputs": [],
   "source": []
  }
 ],
 "metadata": {
  "kernelspec": {
   "display_name": "Python 3",
   "language": "python",
   "name": "python3"
  },
  "language_info": {
   "codemirror_mode": {
    "name": "ipython",
    "version": 3
   },
   "file_extension": ".py",
   "mimetype": "text/x-python",
   "name": "python",
   "nbconvert_exporter": "python",
   "pygments_lexer": "ipython3",
   "version": "3.7.4"
  }
 },
 "nbformat": 4,
 "nbformat_minor": 4
}
