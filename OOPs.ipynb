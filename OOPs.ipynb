{
 "cells": [
  {
   "cell_type": "code",
   "execution_count": 2,
   "metadata": {},
   "outputs": [
    {
     "name": "stdout",
     "output_type": "stream",
     "text": [
      "Hello this is doc string\n",
      "Help on class Student in module __main__:\n",
      "\n",
      "class Student(builtins.object)\n",
      " |  Hello this is doc string\n",
      " |  \n",
      " |  Data descriptors defined here:\n",
      " |  \n",
      " |  __dict__\n",
      " |      dictionary for instance variables (if defined)\n",
      " |  \n",
      " |  __weakref__\n",
      " |      list of weak references to the object (if defined)\n",
      "\n"
     ]
    }
   ],
   "source": [
    "class Student:\n",
    "    '''Hello this is doc string'''\n",
    "print(Student.__doc__)\n",
    "help(Student)"
   ]
  },
  {
   "cell_type": "markdown",
   "metadata": {},
   "source": [
    "# Constructor:"
   ]
  },
  {
   "cell_type": "code",
   "execution_count": null,
   "metadata": {},
   "outputs": [],
   "source": [
    "def __init__(self,name,id,marks):\n",
    "    self.name=name\n",
    "    self.id=id\n",
    "    self.marks=marks"
   ]
  },
  {
   "cell_type": "code",
   "execution_count": 6,
   "metadata": {},
   "outputs": [
    {
     "name": "stdout",
     "output_type": "stream",
     "text": [
      "Constructor execution....\n",
      "Constructor execution....\n",
      "Constructor execution....\n",
      "Method execution\n",
      "1800497304456\n",
      "1800497304456\n",
      "1800496990024\n"
     ]
    }
   ],
   "source": [
    "#program to create constructor and will executes only once\n",
    "class Test:\n",
    "    def __init__(self):\n",
    "        print(\"Constructor execution....\")\n",
    "    def m1(self):\n",
    "        print(\"Method execution\")\n",
    "t1=Test()\n",
    "t1=Test()\n",
    "t3=Test()\n",
    "t1.m1()\n",
    "print(id(t1))\n",
    "print(id(t1))\n",
    "print(id(t3))"
   ]
  },
  {
   "cell_type": "code",
   "execution_count": 7,
   "metadata": {},
   "outputs": [
    {
     "name": "stdout",
     "output_type": "stream",
     "text": [
      "Student name: Venky ID: 1234 Makrs: 80\n"
     ]
    }
   ],
   "source": [
    "#program for class with constructor, instance method\n",
    "class Student:\n",
    "    ''' This is test class to understand class and constructor, instance method'''\n",
    "    def __init__(self,x,y,z):\n",
    "        self.name=x\n",
    "        self.id=y\n",
    "        self.marks=z\n",
    "    def details(self):\n",
    "        print(\"Student name:\",self.name,\"ID:\",self.id,\"Makrs:\",self.marks)\n",
    "s1=Student(\"Venky\",1234,80)\n",
    "s1.details()"
   ]
  },
  {
   "cell_type": "markdown",
   "metadata": {},
   "source": [
    "# Types of Variables:\n",
    "    "
   ]
  },
  {
   "cell_type": "code",
   "execution_count": null,
   "metadata": {},
   "outputs": [],
   "source": [
    "1. Instance variable(Object level variables)\n",
    "2. Static Variables(Class Level Variables)\n",
    "3. Local Variables(Method level Variables)\n"
   ]
  },
  {
   "cell_type": "markdown",
   "metadata": {},
   "source": [
    "# 1. Instance Variables:"
   ]
  },
  {
   "cell_type": "code",
   "execution_count": null,
   "metadata": {},
   "outputs": [],
   "source": [
    "If the value of variable varied from object to object \n",
    "note: for every object a separate copy of instance variable will be create\n",
    "    "
   ]
  },
  {
   "cell_type": "markdown",
   "metadata": {},
   "source": [
    "### Where we can declare Instance variables:"
   ]
  },
  {
   "cell_type": "code",
   "execution_count": null,
   "metadata": {},
   "outputs": [],
   "source": [
    "1. Inside constructor with help of self variable\n",
    "2. Inside instance method with self variable\n",
    "3. Outside of the class with Object reference variable"
   ]
  },
  {
   "cell_type": "code",
   "execution_count": 3,
   "metadata": {},
   "outputs": [
    {
     "name": "stdout",
     "output_type": "stream",
     "text": [
      "{'name': 'Venky', 'marks': 100, 'ID': 1234, 'age': 22}\n"
     ]
    }
   ],
   "source": [
    "#example program\n",
    "class Student:\n",
    "    #inside constructor\n",
    "    def __init__(self):\n",
    "        self.name=\"Venky\"\n",
    "        self.marks=100\n",
    "    #inside instance method\n",
    "    def m1(self):\n",
    "        self.ID=1234\n",
    "#outside of the class\n",
    "x=Student()  # this object reference variable creation \n",
    "x.m1()\n",
    "x.age=22 # creating instance variable with object reference variable\n",
    "\n",
    "print(x.__dict__)"
   ]
  },
  {
   "cell_type": "markdown",
   "metadata": {},
   "source": [
    "# How to access instance variables:"
   ]
  },
  {
   "cell_type": "markdown",
   "metadata": {},
   "source": [
    "We can access instance variables with in the class by using self variable, out side of the class with object reference variable\n"
   ]
  },
  {
   "cell_type": "code",
   "execution_count": 4,
   "metadata": {},
   "outputs": [
    {
     "name": "stdout",
     "output_type": "stream",
     "text": [
      "Venky\n",
      "100\n",
      "Venky 100\n"
     ]
    }
   ],
   "source": [
    "class Student:\n",
    "    def __init__(self):\n",
    "        self.name=\"Venky\"\n",
    "        self.marks=100\n",
    "    def m1(self):\n",
    "        print(self.name)\n",
    "        print(self.marks)\n",
    "x=Student()\n",
    "x.m1()\n",
    "print(x.name,x.marks)\n",
    "    "
   ]
  },
  {
   "cell_type": "markdown",
   "metadata": {},
   "source": [
    "# How to delete instance Variable from the object"
   ]
  },
  {
   "cell_type": "code",
   "execution_count": null,
   "metadata": {},
   "outputs": [],
   "source": [
    "1. Within the class we can delete instance variables with self\n",
    "Example: del self.variableName\n",
    "2. From outside of the class we can delete instance variable with object reference variable\n",
    "Example: del objectreferencevariable.variablename\n",
    "    "
   ]
  },
  {
   "cell_type": "code",
   "execution_count": 8,
   "metadata": {},
   "outputs": [
    {
     "name": "stdout",
     "output_type": "stream",
     "text": [
      "{'marks': 90}\n"
     ]
    }
   ],
   "source": [
    "#example program to delete instance variables inside class\n",
    "class Student:\n",
    "    def __init__(self):\n",
    "        self.name=\"Venky\"\n",
    "        self.marks=90\n",
    "        \n",
    "    def m1(self):\n",
    "        del self.name\n",
    "x=Student()\n",
    "x.m1()\n",
    "print(x.__dict__)"
   ]
  },
  {
   "cell_type": "code",
   "execution_count": 13,
   "metadata": {},
   "outputs": [
    {
     "name": "stdout",
     "output_type": "stream",
     "text": [
      "{'marks': 90}\n"
     ]
    }
   ],
   "source": [
    "#example program to delete instance variables outside class\n",
    "class Student:\n",
    "    def __init__(self):\n",
    "        self.name=\"Venky\"\n",
    "        self.marks=90\n",
    "        \n",
    "    \n",
    "x=Student()\n",
    "del x.name\n",
    "print(x.__dict__)"
   ]
  },
  {
   "cell_type": "markdown",
   "metadata": {},
   "source": [
    "# 2. Static Variable (Class level Variable)"
   ]
  },
  {
   "cell_type": "code",
   "execution_count": null,
   "metadata": {},
   "outputs": [],
   "source": [
    "If the value of variable not varied from object to object is called static variable.\n",
    "We should declare static variable inside the class and outside of the methods.\n",
    "\n",
    "For only one copy of static variable will be created and shared with all object of class."
   ]
  },
  {
   "cell_type": "code",
   "execution_count": 1,
   "metadata": {},
   "outputs": [
    {
     "name": "stdout",
     "output_type": "stream",
     "text": [
      "Static Variable X Value is: 10\n",
      "Instance Variable Y Value is: 20\n"
     ]
    }
   ],
   "source": [
    "#example program to create static variable\n",
    "class Test:\n",
    "    x=10\n",
    "    def __init__(self):\n",
    "        self.y=20\n",
    "    \n",
    "t1=Test()\n",
    "print(\"Static Variable X Value is:\",t1.x)\n",
    "print(\"Instance Variable Y Value is:\",t1.y)"
   ]
  },
  {
   "cell_type": "code",
   "execution_count": 3,
   "metadata": {},
   "outputs": [
    {
     "name": "stdout",
     "output_type": "stream",
     "text": [
      "Before Modification of values:\n",
      "Static Variable X Value is: 10\n",
      "Instance Variable Y Value is: 20\n",
      "Before Modification of values:\n",
      "Static Variable X Value is: 999\n",
      "Instance Variable Y Value is: 888\n",
      "Before Modification values of T2:\n",
      "Static Variable X Value is: 999\n",
      "Instance Variable Y Value is: 20\n"
     ]
    }
   ],
   "source": [
    "#example program to create static variable\n",
    "class Test:\n",
    "    x=10\n",
    "    def __init__(self):\n",
    "        self.y=20\n",
    "    \n",
    "t1=Test()\n",
    "t2=Test()\n",
    "print(\"Before Modification of values:\")\n",
    "print(\"Static Variable X Value is:\",t1.x)\n",
    "print(\"Instance Variable Y Value is:\",t1.y)\n",
    "Test.x=999\n",
    "t1.y=888\n",
    "print(\"Before Modification of values:\")\n",
    "print(\"Static Variable X Value is:\",t1.x)\n",
    "print(\"Instance Variable Y Value is:\",t1.y)\n",
    "print(\"Before Modification values of T2:\")\n",
    "print(\"Static Variable X Value is:\",t2.x)\n",
    "print(\"Instance Variable Y Value is:\",t2.y)"
   ]
  },
  {
   "cell_type": "markdown",
   "metadata": {},
   "source": [
    "# Various places to declare the static varible:"
   ]
  },
  {
   "cell_type": "code",
   "execution_count": null,
   "metadata": {},
   "outputs": [],
   "source": [
    "1. In general we can declare within the class but outside of the methods\n",
    "2. Inside constructor by using class name\n",
    "3. Inside instance method by using class name\n",
    "4. inside classmethod by using class name or cls variable\n",
    "5. Inside static method by using class name\n"
   ]
  },
  {
   "cell_type": "code",
   "execution_count": 4,
   "metadata": {},
   "outputs": [
    {
     "name": "stdout",
     "output_type": "stream",
     "text": [
      "{'__module__': '__main__', 'a': 10, '__init__': <function Test.__init__ at 0x000001834CBBB9D8>, 'm1': <function Test.m1 at 0x000001834CBBBAF8>, 'm2': <classmethod object at 0x000001834CBDE1C8>, 'm3': <staticmethod object at 0x000001834CBDE648>, '__dict__': <attribute '__dict__' of 'Test' objects>, '__weakref__': <attribute '__weakref__' of 'Test' objects>, '__doc__': None}\n",
      "{'__module__': '__main__', 'a': 10, '__init__': <function Test.__init__ at 0x000001834CBBB9D8>, 'm1': <function Test.m1 at 0x000001834CBBBAF8>, 'm2': <classmethod object at 0x000001834CBDE1C8>, 'm3': <staticmethod object at 0x000001834CBDE648>, '__dict__': <attribute '__dict__' of 'Test' objects>, '__weakref__': <attribute '__weakref__' of 'Test' objects>, '__doc__': None, 'b': 20}\n",
      "{'__module__': '__main__', 'a': 10, '__init__': <function Test.__init__ at 0x000001834CBBB9D8>, 'm1': <function Test.m1 at 0x000001834CBBBAF8>, 'm2': <classmethod object at 0x000001834CBDE1C8>, 'm3': <staticmethod object at 0x000001834CBDE648>, '__dict__': <attribute '__dict__' of 'Test' objects>, '__weakref__': <attribute '__weakref__' of 'Test' objects>, '__doc__': None, 'b': 20, 'c': 30}\n",
      "{'__module__': '__main__', 'a': 10, '__init__': <function Test.__init__ at 0x000001834CBBB9D8>, 'm1': <function Test.m1 at 0x000001834CBBBAF8>, 'm2': <classmethod object at 0x000001834CBDE1C8>, 'm3': <staticmethod object at 0x000001834CBDE648>, '__dict__': <attribute '__dict__' of 'Test' objects>, '__weakref__': <attribute '__weakref__' of 'Test' objects>, '__doc__': None, 'b': 20, 'c': 30, 'd': 40, 'e': 50}\n",
      "{'__module__': '__main__', 'a': 10, '__init__': <function Test.__init__ at 0x000001834CBBB9D8>, 'm1': <function Test.m1 at 0x000001834CBBBAF8>, 'm2': <classmethod object at 0x000001834CBDE1C8>, 'm3': <staticmethod object at 0x000001834CBDE648>, '__dict__': <attribute '__dict__' of 'Test' objects>, '__weakref__': <attribute '__weakref__' of 'Test' objects>, '__doc__': None, 'b': 20, 'c': 30, 'd': 40, 'e': 50, 'f': 60}\n"
     ]
    }
   ],
   "source": [
    "#exmaple program to declare static variable in various places\n",
    "class Test:\n",
    "    a=10\n",
    "    def __init__(self):\n",
    "        Test.b=20\n",
    "    def m1(self):\n",
    "        Test.c=30\n",
    "    @classmethod\n",
    "    def m2(cls):\n",
    "        cls.d=40\n",
    "        Test.e=50\n",
    "    @staticmethod\n",
    "    def m3():\n",
    "        Test.f=60\n",
    "print(Test.__dict__)\n",
    "t1=Test()\n",
    "print(Test.__dict__)\n",
    "t1.m1()\n",
    "print(Test.__dict__)\n",
    "Test.m2()\n",
    "print(Test.__dict__)\n",
    "Test.m3()\n",
    "print(Test.__dict__)\n"
   ]
  },
  {
   "cell_type": "code",
   "execution_count": 5,
   "metadata": {},
   "outputs": [
    {
     "name": "stdout",
     "output_type": "stream",
     "text": [
      "{'__module__': '__main__', 'a': 10, '__init__': <function Test.__init__ at 0x000001834CBE3048>, 'm1': <function Test.m1 at 0x000001834CBE30D8>, 'm2': <classmethod object at 0x000001834CBE2108>, 'm3': <staticmethod object at 0x000001834CBE2488>, '__dict__': <attribute '__dict__' of 'Test' objects>, '__weakref__': <attribute '__weakref__' of 'Test' objects>, '__doc__': None}\n",
      "{'__module__': '__main__', 'a': 10, '__init__': <function Test.__init__ at 0x000001834CBE3048>, 'm1': <function Test.m1 at 0x000001834CBE30D8>, 'm2': <classmethod object at 0x000001834CBE2108>, 'm3': <staticmethod object at 0x000001834CBE2488>, '__dict__': <attribute '__dict__' of 'Test' objects>, '__weakref__': <attribute '__weakref__' of 'Test' objects>, '__doc__': None, 'b': 20}\n",
      "{'__module__': '__main__', 'a': 10, '__init__': <function Test.__init__ at 0x000001834CBE3048>, 'm1': <function Test.m1 at 0x000001834CBE30D8>, 'm2': <classmethod object at 0x000001834CBE2108>, 'm3': <staticmethod object at 0x000001834CBE2488>, '__dict__': <attribute '__dict__' of 'Test' objects>, '__weakref__': <attribute '__weakref__' of 'Test' objects>, '__doc__': None, 'b': 20, 'c': 30}\n",
      "{'__module__': '__main__', 'a': 10, '__init__': <function Test.__init__ at 0x000001834CBE3048>, 'm1': <function Test.m1 at 0x000001834CBE30D8>, 'm2': <classmethod object at 0x000001834CBE2108>, 'm3': <staticmethod object at 0x000001834CBE2488>, '__dict__': <attribute '__dict__' of 'Test' objects>, '__weakref__': <attribute '__weakref__' of 'Test' objects>, '__doc__': None, 'b': 20, 'c': 30, 'd': 40, 'e': 50}\n",
      "{'__module__': '__main__', 'a': 10, '__init__': <function Test.__init__ at 0x000001834CBE3048>, 'm1': <function Test.m1 at 0x000001834CBE30D8>, 'm2': <classmethod object at 0x000001834CBE2108>, 'm3': <staticmethod object at 0x000001834CBE2488>, '__dict__': <attribute '__dict__' of 'Test' objects>, '__weakref__': <attribute '__weakref__' of 'Test' objects>, '__doc__': None, 'b': 20, 'c': 30, 'd': 40, 'e': 50, 'f': 60}\n",
      "{'__module__': '__main__', 'a': 10, '__init__': <function Test.__init__ at 0x000001834CBE3048>, 'm1': <function Test.m1 at 0x000001834CBE30D8>, 'm2': <classmethod object at 0x000001834CBE2108>, 'm3': <staticmethod object at 0x000001834CBE2488>, '__dict__': <attribute '__dict__' of 'Test' objects>, '__weakref__': <attribute '__weakref__' of 'Test' objects>, '__doc__': None, 'b': 20, 'c': 30, 'd': 40, 'e': 50, 'f': 90}\n"
     ]
    }
   ],
   "source": [
    "#exmaple program to declare static variable in various places\n",
    "class Test:\n",
    "    a=10\n",
    "    def __init__(self):\n",
    "        Test.b=20\n",
    "    def m1(self):\n",
    "        Test.c=30\n",
    "    @classmethod\n",
    "    def m2(cls):\n",
    "        cls.d=40\n",
    "        Test.e=50\n",
    "    @staticmethod\n",
    "    def m3():\n",
    "        Test.f=60\n",
    "print(Test.__dict__)\n",
    "t1=Test()\n",
    "print(Test.__dict__)\n",
    "t1.m1()\n",
    "print(Test.__dict__)\n",
    "Test.m2()\n",
    "print(Test.__dict__)\n",
    "Test.m3()\n",
    "print(Test.__dict__)\n",
    "Test.f=90\n",
    "print(Test.__dict__)"
   ]
  },
  {
   "cell_type": "markdown",
   "metadata": {},
   "source": [
    "# Accessing og Static Variables:"
   ]
  },
  {
   "cell_type": "code",
   "execution_count": null,
   "metadata": {},
   "outputs": [],
   "source": [
    "1. Inside constructor: by using either with self or class name\n",
    "2. Inside Instance method: by using self or classname\n",
    "3. Inside class method: by using classname or cls variable\n",
    "4. Inside static method: by using classname\n",
    "5. from outside of the class: by using object reference variable or classname"
   ]
  },
  {
   "cell_type": "code",
   "execution_count": 7,
   "metadata": {},
   "outputs": [
    {
     "name": "stdout",
     "output_type": "stream",
     "text": [
      "Constructor static variable with classname: 20\n",
      "Constructor static variable with self: 20\n",
      "From outside of the class with class name: 10\n",
      "Instance method static variable with class name: 30\n",
      "Instance method static variable with self: 30\n",
      "Class method static variable with class name: 40\n",
      "Class method static variable with cls variable: 40\n",
      "Static method static variable with class name: 60\n"
     ]
    }
   ],
   "source": [
    "class Test:\n",
    "    a=10\n",
    "    def __init__(self):\n",
    "        Test.b=20\n",
    "        print(\"Constructor static variable with classname:\",Test.b)\n",
    "        print(\"Constructor static variable with self:\",self.b)\n",
    "    def m1(self):\n",
    "        Test.c=30\n",
    "        print(\"Instance method static variable with class name:\",Test.c)\n",
    "        print(\"Instance method static variable with self:\",self.c)\n",
    "\n",
    "    @classmethod\n",
    "    def m2(cls):\n",
    "        cls.d=40\n",
    "        Test.e=50\n",
    "        print(\"Class method static variable with class name:\",Test.d)\n",
    "        print(\"Class method static variable with cls variable:\",cls.d)\n",
    "\n",
    "    @staticmethod\n",
    "    def m3():\n",
    "        Test.f=60\n",
    "        print(\"Static method static variable with class name:\",Test.f)\n",
    "        \n",
    "t=Test()\n",
    "print(\"From outside of the class with class name:\",Test.a)\n",
    "t.m1()\n",
    "t.m2()\n",
    "t.m3()"
   ]
  },
  {
   "cell_type": "markdown",
   "metadata": {},
   "source": [
    "# Modifying the values of static variable:"
   ]
  },
  {
   "cell_type": "code",
   "execution_count": null,
   "metadata": {},
   "outputs": [],
   "source": [
    "Anywhere we can modify the values of static variables by using class name\n",
    "but inside  class method with cls variable\n"
   ]
  },
  {
   "cell_type": "code",
   "execution_count": 8,
   "metadata": {},
   "outputs": [
    {
     "name": "stdout",
     "output_type": "stream",
     "text": [
      "10\n",
      "888\n",
      "999\n"
     ]
    }
   ],
   "source": [
    "class Test:\n",
    "    a=10\n",
    "    @classmethod\n",
    "    def m1(cls):\n",
    "        cls.a=888\n",
    "    @staticmethod\n",
    "    def m2():\n",
    "        Test.a=999\n",
    "print(Test.a)\n",
    "Test.m1()\n",
    "print(Test.a)\n",
    "Test.m2()\n",
    "print(Test.a)"
   ]
  },
  {
   "cell_type": "code",
   "execution_count": 10,
   "metadata": {},
   "outputs": [
    {
     "name": "stdout",
     "output_type": "stream",
     "text": [
      "10\n",
      "Class method execution\n",
      "10\n",
      "Static method execution\n",
      "10\n"
     ]
    }
   ],
   "source": [
    "#if u will not modify the value of static variable\n",
    "class Test:\n",
    "    a=10\n",
    "    @classmethod\n",
    "    def m1(cls):\n",
    "        a=888\n",
    "        print(\"Class method execution\")\n",
    "    @staticmethod\n",
    "    def m2():\n",
    "        a=999\n",
    "        print(\"Static method execution\")\n",
    "print(Test.a)\n",
    "Test.m1()\n",
    "print(Test.a)\n",
    "Test.m2()\n",
    "print(Test.a)"
   ]
  },
  {
   "cell_type": "markdown",
   "metadata": {},
   "source": [
    "# Deleting of Static variable"
   ]
  },
  {
   "cell_type": "code",
   "execution_count": null,
   "metadata": {},
   "outputs": [],
   "source": [
    "from anywhere we can use classname to delete\n",
    "from inside of class method we can also cls variable"
   ]
  },
  {
   "cell_type": "code",
   "execution_count": 11,
   "metadata": {},
   "outputs": [
    {
     "name": "stdout",
     "output_type": "stream",
     "text": [
      "{'__module__': '__main__', 'm1': <classmethod object at 0x000001834CBF56C8>, '__dict__': <attribute '__dict__' of 'Test' objects>, '__weakref__': <attribute '__weakref__' of 'Test' objects>, '__doc__': None}\n"
     ]
    }
   ],
   "source": [
    "class Test:\n",
    "    a=10\n",
    "    @classmethod\n",
    "    def m1(cls):\n",
    "        del cls.a\n",
    "Test.m1()\n",
    "print(Test.__dict__)"
   ]
  },
  {
   "cell_type": "code",
   "execution_count": 12,
   "metadata": {},
   "outputs": [
    {
     "name": "stdout",
     "output_type": "stream",
     "text": [
      "{'__module__': '__main__', 'm1': <classmethod object at 0x000001834CBF31C8>, '__dict__': <attribute '__dict__' of 'Test' objects>, '__weakref__': <attribute '__weakref__' of 'Test' objects>, '__doc__': None}\n"
     ]
    }
   ],
   "source": [
    "class Test:\n",
    "    a=10\n",
    "    @classmethod\n",
    "    def m1(cls):\n",
    "        del Test.a\n",
    "Test.m1()\n",
    "print(Test.__dict__)"
   ]
  },
  {
   "cell_type": "code",
   "execution_count": 13,
   "metadata": {},
   "outputs": [
    {
     "name": "stdout",
     "output_type": "stream",
     "text": [
      "{'__module__': '__main__', 'b': 20, 'c': 30, 'm1': <classmethod object at 0x000001834CBF3FC8>, 'm2': <staticmethod object at 0x000001834CBF8088>, '__dict__': <attribute '__dict__' of 'Test' objects>, '__weakref__': <attribute '__weakref__' of 'Test' objects>, '__doc__': None}\n",
      "{'__module__': '__main__', 'c': 30, 'm1': <classmethod object at 0x000001834CBF3FC8>, 'm2': <staticmethod object at 0x000001834CBF8088>, '__dict__': <attribute '__dict__' of 'Test' objects>, '__weakref__': <attribute '__weakref__' of 'Test' objects>, '__doc__': None}\n"
     ]
    }
   ],
   "source": [
    "class Test:\n",
    "    a=10\n",
    "    b=20\n",
    "    c=30\n",
    "    @classmethod\n",
    "    def m1(cls):\n",
    "        del cls.a\n",
    "    @staticmethod\n",
    "    def m2():\n",
    "        del Test.b\n",
    "Test.m1()\n",
    "print(Test.__dict__)\n",
    "Test.m2()\n",
    "print(Test.__dict__)"
   ]
  },
  {
   "cell_type": "code",
   "execution_count": 2,
   "metadata": {},
   "outputs": [
    {
     "name": "stdout",
     "output_type": "stream",
     "text": [
      "Welcome to IDBI BANK\n",
      "Enter your name:venky\n",
      " D-Deposit \n",
      " W-Withdraw\n",
      " E-Exit\n",
      "Choose your option:9000\n",
      "Invalid option... please choose valid option\n",
      " D-Deposit \n",
      " W-Withdraw\n",
      " E-Exit\n",
      "Choose your option:d\n",
      "Enter amount:3000\n",
      "Your total balance is: 3000\n",
      " D-Deposit \n",
      " W-Withdraw\n",
      " E-Exit\n",
      "Choose your option:d\n",
      "Enter amount:5000\n",
      "Your total balance is: 8000\n",
      " D-Deposit \n",
      " W-Withdraw\n",
      " E-Exit\n",
      "Choose your option:w\n",
      "Enter the amount:2500\n",
      "Your account balance after withdraw the amount.... 5500\n",
      " D-Deposit \n",
      " W-Withdraw\n",
      " E-Exit\n",
      "Choose your option:d\n",
      "Enter amount:500\n",
      "Your total balance is: 6000\n",
      " D-Deposit \n",
      " W-Withdraw\n",
      " E-Exit\n",
      "Choose your option:e\n",
      "Thanks for Banking....\n"
     ]
    },
    {
     "ename": "SystemExit",
     "evalue": "",
     "output_type": "error",
     "traceback": [
      "An exception has occurred, use %tb to see the full traceback.\n",
      "\u001b[1;31mSystemExit\u001b[0m\n"
     ]
    },
    {
     "name": "stderr",
     "output_type": "stream",
     "text": [
      "C:\\Users\\venky\\AppData\\Roaming\\Python\\Python37\\site-packages\\IPython\\core\\interactiveshell.py:3339: UserWarning: To exit: use 'exit', 'quit', or Ctrl-D.\n",
      "  warn(\"To exit: use 'exit', 'quit', or Ctrl-D.\", stacklevel=1)\n"
     ]
    }
   ],
   "source": [
    "#example program to understand static variables\n",
    "import sys\n",
    "class Customer:\n",
    "    bankname=\"IDBI BANK\"\n",
    "    def __init__(self,name,balance=0):\n",
    "        self.name=name\n",
    "        self.balance=balance\n",
    "    def deposit(self,amnt):\n",
    "        self.balance=self.balance+amnt\n",
    "        print(\"Your total balance is:\",self.balance)\n",
    "    def withdraw(self,amnt):\n",
    "        if amnt>self.balance:\n",
    "            print(\"Insufficient funds in your account....\")\n",
    "            sys.exit()\n",
    "        self.balance=self.balance-amnt\n",
    "        print(\"Your account balance after withdraw the amount....\",self.balance)\n",
    "        \n",
    "print(\"Welcome to\",Customer.bankname)\n",
    "name=input(\"Enter your name:\")\n",
    "c=Customer(name)\n",
    "while True:\n",
    "    print(\" D-Deposit \\n W-Withdraw\\n E-Exit\")\n",
    "    option=input(\"Choose your option:\")\n",
    "    if option==\"d\" or option==\"D\":\n",
    "        amnt=int(input(\"Enter amount:\"))\n",
    "        c.deposit(amnt)\n",
    "    elif option==\"W\" or option==\"w\":\n",
    "        amnt=int(input(\"Enter the amount:\"))\n",
    "        c.withdraw(amnt)\n",
    "    elif option==\"E\" or option==\"e\":\n",
    "        print(\"Thanks for Banking....\")\n",
    "        sys.exit()\n",
    "    else:\n",
    "        print(\"Invalid option... please choose valid option\")\n",
    "\n",
    "\n",
    "    "
   ]
  },
  {
   "cell_type": "code",
   "execution_count": null,
   "metadata": {},
   "outputs": [],
   "source": []
  },
  {
   "cell_type": "markdown",
   "metadata": {},
   "source": [
    "# 3. Local Variable:"
   ]
  },
  {
   "cell_type": "code",
   "execution_count": 3,
   "metadata": {},
   "outputs": [
    {
     "name": "stdout",
     "output_type": "stream",
     "text": [
      "100\n",
      "200\n"
     ]
    }
   ],
   "source": [
    "#example\n",
    "class Test:\n",
    "    def m1(self):\n",
    "        a=100\n",
    "        print(a)\n",
    "    def m2(self):\n",
    "        b=200\n",
    "        print(b)\n",
    "t=Test()\n",
    "t.m1()\n",
    "t.m2()"
   ]
  },
  {
   "cell_type": "code",
   "execution_count": 4,
   "metadata": {},
   "outputs": [
    {
     "name": "stdout",
     "output_type": "stream",
     "text": [
      "100\n"
     ]
    },
    {
     "ename": "NameError",
     "evalue": "name 'a' is not defined",
     "output_type": "error",
     "traceback": [
      "\u001b[1;31m---------------------------------------------------------------------------\u001b[0m",
      "\u001b[1;31mNameError\u001b[0m                                 Traceback (most recent call last)",
      "\u001b[1;32m<ipython-input-4-2c14025f89c0>\u001b[0m in \u001b[0;36m<module>\u001b[1;34m\u001b[0m\n\u001b[0;32m     10\u001b[0m \u001b[0mt\u001b[0m\u001b[1;33m=\u001b[0m\u001b[0mTest\u001b[0m\u001b[1;33m(\u001b[0m\u001b[1;33m)\u001b[0m\u001b[1;33m\u001b[0m\u001b[1;33m\u001b[0m\u001b[0m\n\u001b[0;32m     11\u001b[0m \u001b[0mt\u001b[0m\u001b[1;33m.\u001b[0m\u001b[0mm1\u001b[0m\u001b[1;33m(\u001b[0m\u001b[1;33m)\u001b[0m\u001b[1;33m\u001b[0m\u001b[1;33m\u001b[0m\u001b[0m\n\u001b[1;32m---> 12\u001b[1;33m \u001b[0mt\u001b[0m\u001b[1;33m.\u001b[0m\u001b[0mm2\u001b[0m\u001b[1;33m(\u001b[0m\u001b[1;33m)\u001b[0m\u001b[1;33m\u001b[0m\u001b[1;33m\u001b[0m\u001b[0m\n\u001b[0m",
      "\u001b[1;32m<ipython-input-4-2c14025f89c0>\u001b[0m in \u001b[0;36mm2\u001b[1;34m(self)\u001b[0m\n\u001b[0;32m      6\u001b[0m     \u001b[1;32mdef\u001b[0m \u001b[0mm2\u001b[0m\u001b[1;33m(\u001b[0m\u001b[0mself\u001b[0m\u001b[1;33m)\u001b[0m\u001b[1;33m:\u001b[0m\u001b[1;33m\u001b[0m\u001b[1;33m\u001b[0m\u001b[0m\n\u001b[0;32m      7\u001b[0m         \u001b[0mb\u001b[0m\u001b[1;33m=\u001b[0m\u001b[1;36m200\u001b[0m\u001b[1;33m\u001b[0m\u001b[1;33m\u001b[0m\u001b[0m\n\u001b[1;32m----> 8\u001b[1;33m         \u001b[0mprint\u001b[0m\u001b[1;33m(\u001b[0m\u001b[0ma\u001b[0m\u001b[1;33m)\u001b[0m\u001b[1;33m\u001b[0m\u001b[1;33m\u001b[0m\u001b[0m\n\u001b[0m\u001b[0;32m      9\u001b[0m         \u001b[0mprint\u001b[0m\u001b[1;33m(\u001b[0m\u001b[0mb\u001b[0m\u001b[1;33m)\u001b[0m\u001b[1;33m\u001b[0m\u001b[1;33m\u001b[0m\u001b[0m\n\u001b[0;32m     10\u001b[0m \u001b[0mt\u001b[0m\u001b[1;33m=\u001b[0m\u001b[0mTest\u001b[0m\u001b[1;33m(\u001b[0m\u001b[1;33m)\u001b[0m\u001b[1;33m\u001b[0m\u001b[1;33m\u001b[0m\u001b[0m\n",
      "\u001b[1;31mNameError\u001b[0m: name 'a' is not defined"
     ]
    }
   ],
   "source": [
    "#example\n",
    "class Test:\n",
    "    def m1(self):\n",
    "        a=100\n",
    "        print(a)\n",
    "    def m2(self):\n",
    "        b=200\n",
    "        print(a)\n",
    "        print(b)\n",
    "t=Test()\n",
    "t.m1()\n",
    "t.m2()"
   ]
  },
  {
   "cell_type": "markdown",
   "metadata": {},
   "source": [
    "# Types of methods:"
   ]
  },
  {
   "cell_type": "code",
   "execution_count": null,
   "metadata": {},
   "outputs": [],
   "source": [
    "1. Instance method\n",
    "2. Class methods\n",
    "3. Static methods\n"
   ]
  },
  {
   "cell_type": "markdown",
   "metadata": {},
   "source": [
    "### 1. Instance method:"
   ]
  },
  {
   "cell_type": "code",
   "execution_count": null,
   "metadata": {},
   "outputs": [],
   "source": [
    "inside method implementation if we are using instance variables is called instance method.\n",
    "\n",
    "syntax:\n",
    "    def methodname(self):\n",
    "        -----------------\n",
    "        -----------------\n",
    "        -----------------\n",
    "        \n",
    "    \n",
    "by using self variable inside method we can able to access the instance variables from outside of the method, class"
   ]
  },
  {
   "cell_type": "code",
   "execution_count": 5,
   "metadata": {},
   "outputs": [
    {
     "name": "stdout",
     "output_type": "stream",
     "text": [
      "Enter number of students:3\n",
      "Enter nameVenky\n",
      "Enter marks:80\n",
      "Your name is: Venky\n",
      "Your marks are: 80\n",
      "You got A grade\n",
      "\n",
      "Enter nameManasa\n",
      "Enter marks:90\n",
      "Your name is: Manasa\n",
      "Your marks are: 90\n",
      "You got A grade\n",
      "\n",
      "Enter nameTanuja\n",
      "Enter marks:50\n",
      "Your name is: Tanuja\n",
      "Your marks are: 50\n",
      "you got B Grade\n",
      "\n"
     ]
    }
   ],
   "source": [
    "#Example program for instance method\n",
    "class Student:\n",
    "    def __init__(self,name,marks):\n",
    "        self.name=name\n",
    "        self.marks=marks\n",
    "    def display(self):\n",
    "        print(\"Your name is:\",self.name)\n",
    "        print(\"Your marks are:\",self.marks)\n",
    "    def grade(self):\n",
    "        if self.marks>=60:\n",
    "            print(\"You got A grade\")\n",
    "        elif self.marks>40 and self.marks<60:\n",
    "            print(\"you got B Grade\")\n",
    "        else:\n",
    "            print(\"Fail\")\n",
    "            \n",
    "    \n",
    "n=int(input(\"Enter number of students:\"))\n",
    "for i in range(n):\n",
    "    name=input(\"Enter name\")\n",
    "    marks=int(input(\"Enter marks:\"))\n",
    "    s=Student(name,marks)\n",
    "    s.display()\n",
    "    s.grade()\n",
    "    print()"
   ]
  },
  {
   "cell_type": "markdown",
   "metadata": {},
   "source": [
    "# Setter and Getter Methods:"
   ]
  },
  {
   "cell_type": "markdown",
   "metadata": {},
   "source": [
    "We can set and get the values of instance variables by using getter and setter methods.\n"
   ]
  },
  {
   "cell_type": "markdown",
   "metadata": {},
   "source": [
    "## Setter Method"
   ]
  },
  {
   "cell_type": "markdown",
   "metadata": {},
   "source": [
    "Setter methods can be used to set values to the instance variables. Setter methods also known as mutator methods."
   ]
  },
  {
   "cell_type": "markdown",
   "metadata": {},
   "source": [
    "Syntax:\n",
    "\n",
    "def setVariable(self,variable):\n",
    "\n",
    "    self.variable=variable"
   ]
  },
  {
   "cell_type": "code",
   "execution_count": 1,
   "metadata": {},
   "outputs": [],
   "source": [
    "#example program \n",
    "def setName(self,name):\n",
    "    self.name=name"
   ]
  },
  {
   "cell_type": "markdown",
   "metadata": {},
   "source": [
    "## Getter Method:"
   ]
  },
  {
   "cell_type": "markdown",
   "metadata": {},
   "source": [
    "Getter methods can be used to get values of the instance variables. Getter methods also known as accessor methods."
   ]
  },
  {
   "cell_type": "markdown",
   "metadata": {},
   "source": [
    "Syntax:\n",
    "    \n",
    "    def getVariables(self):\n",
    "        \n",
    "        return self.variable"
   ]
  },
  {
   "cell_type": "code",
   "execution_count": 2,
   "metadata": {},
   "outputs": [],
   "source": [
    "#example\n",
    "def getName(self):\n",
    "    return self.name"
   ]
  },
  {
   "cell_type": "code",
   "execution_count": 7,
   "metadata": {},
   "outputs": [
    {
     "name": "stdout",
     "output_type": "stream",
     "text": [
      "Enter number of students....3\n",
      "Enter name:Venky\n",
      "Enter Marks:90\n",
      "Hi Venky\n",
      "Your marks are: 90\n",
      "\n",
      "Enter name:Pasha\n",
      "Enter Marks:98\n",
      "Hi Pasha\n",
      "Your marks are: 98\n",
      "\n",
      "Enter name:Rakesh\n",
      "Enter Marks:99\n",
      "Hi Rakesh\n",
      "Your marks are: 99\n",
      "\n"
     ]
    }
   ],
   "source": [
    "#example program to understand setter and Getter methods\n",
    "class student:\n",
    "    def setName(self,name):\n",
    "        self.name=name\n",
    "    def getName(self):\n",
    "        return self.name\n",
    "    def setMarks(self,marks):\n",
    "        self.marks=marks\n",
    "    def getMarks(self):\n",
    "        return self.marks\n",
    "n=int(input(\"Enter number of students....\"))\n",
    "for i in range(n):\n",
    "    s=student()\n",
    "    name=input(\"Enter name:\")\n",
    "    s.setName(name)\n",
    "    marks=int(input(\"Enter Marks:\"))\n",
    "    s.setMarks(marks)\n",
    "    \n",
    "    print(\"Hi\",s.getName())\n",
    "    print(\"Your marks are:\",s.getMarks())\n",
    "    print()"
   ]
  },
  {
   "cell_type": "markdown",
   "metadata": {},
   "source": [
    "Note: Please note that its not required to give the name of the setter method with setName, we can give any name to that function ans also same for getter methods."
   ]
  },
  {
   "cell_type": "code",
   "execution_count": 8,
   "metadata": {},
   "outputs": [
    {
     "name": "stdout",
     "output_type": "stream",
     "text": [
      "Enter number of students....2\n",
      "Enter name:manasa\n",
      "Enter Marks:90\n",
      "Hi manasa\n",
      "Your marks are: 90\n",
      "\n",
      "Enter name:madhavi\n",
      "Enter Marks:98\n",
      "Hi madhavi\n",
      "Your marks are: 98\n",
      "\n"
     ]
    }
   ],
   "source": [
    "#example program to understand setter and Getter methods\n",
    "class student:\n",
    "    def Name(self,name):\n",
    "        self.name=name\n",
    "    def xName(self):\n",
    "        return self.name\n",
    "    def Marks(self,marks):\n",
    "        self.marks=marks\n",
    "    def xMarks(self):\n",
    "        return self.marks\n",
    "n=int(input(\"Enter number of students....\"))\n",
    "for i in range(n):\n",
    "    s=student()\n",
    "    name=input(\"Enter name:\")\n",
    "    s.Name(name)\n",
    "    marks=int(input(\"Enter Marks:\"))\n",
    "    s.Marks(marks)\n",
    "    \n",
    "    print(\"Hi\",s.xName())\n",
    "    print(\"Your marks are:\",s.xMarks())\n",
    "    print()"
   ]
  },
  {
   "cell_type": "markdown",
   "metadata": {},
   "source": [
    "# 2. Class Method"
   ]
  },
  {
   "cell_type": "markdown",
   "metadata": {},
   "source": [
    "Inside method implementation if we are using only class variables(static variables),then such type of methods we should declare as class method."
   ]
  },
  {
   "cell_type": "markdown",
   "metadata": {},
   "source": [
    "We can declare class method explicitly by using @classmethod decorator\n",
    "\n",
    "For class method we should provide cls varabile at the time of declaration."
   ]
  },
  {
   "cell_type": "markdown",
   "metadata": {},
   "source": [
    "We can call classmethod by using classname or object reference variable.\n"
   ]
  },
  {
   "cell_type": "code",
   "execution_count": 10,
   "metadata": {},
   "outputs": [
    {
     "name": "stdout",
     "output_type": "stream",
     "text": [
      "Dog walks with4 legs\n",
      "Cat walks with4 legs\n"
     ]
    }
   ],
   "source": [
    "#Example program to undestand class method\n",
    "class Animal:\n",
    "    legs=4\n",
    "    @classmethod\n",
    "    def walk(cls,name):\n",
    "        print('{} walks with{} legs'.format(name,cls.legs))\n",
    "Animal.walk(\"Dog\")\n",
    "Animal.walk(\"Cat\")"
   ]
  },
  {
   "cell_type": "code",
   "execution_count": 9,
   "metadata": {},
   "outputs": [
    {
     "name": "stdout",
     "output_type": "stream",
     "text": [
      "Number of objects created for test class: 2\n",
      "Number of objects created for test class: 5\n"
     ]
    }
   ],
   "source": [
    "#program to track the number of objects created for class:\n",
    "class Test:\n",
    "    count=0\n",
    "    def __init__(self):\n",
    "        Test.count=Test.count+1\n",
    "    @classmethod\n",
    "    def noOfobjects(cls):\n",
    "        print(\"Number of objects created for test class:\",cls.count)\n",
    "t1=Test()\n",
    "t2=Test()\n",
    "Test.noOfobjects()\n",
    "t3=Test()\n",
    "t4=Test()\n",
    "t5=Test()\n",
    "Test.noOfobjects()"
   ]
  },
  {
   "cell_type": "markdown",
   "metadata": {},
   "source": [
    "# 3. Static Methods:"
   ]
  },
  {
   "cell_type": "markdown",
   "metadata": {},
   "source": [
    "In general these methods are general utility methods.\n",
    "\n",
    "Inside these methods we won't use any instance or class variables\n",
    "\n",
    "Here we won't provide self or cls arguments at the time of declaration.\n",
    "\n",
    "We can declare static method explicitly by using @staticmethod decorator\n",
    "\n",
    "We can access static methods by using classname or object reference."
   ]
  },
  {
   "cell_type": "code",
   "execution_count": 10,
   "metadata": {},
   "outputs": [
    {
     "name": "stdout",
     "output_type": "stream",
     "text": [
      "The sum is : 30\n",
      "The average is: 15.0\n",
      "The product is : 200\n"
     ]
    }
   ],
   "source": [
    "class VenkyMath:\n",
    "    @staticmethod\n",
    "    def add(x,y):\n",
    "        print(\"The sum is :\",x+y)\n",
    "    @staticmethod\n",
    "    def average(x,y):\n",
    "        print(\"The average is:\",(x+y)/2)\n",
    "    @staticmethod\n",
    "    def product(x,y):\n",
    "        print(\"The product is :\",x*y)\n",
    "VenkyMath.add(10,20)\n",
    "VenkyMath.average(10,20)\n",
    "VenkyMath.product(10,20)"
   ]
  },
  {
   "cell_type": "markdown",
   "metadata": {},
   "source": [
    "Note:\n",
    "    In general we can use only instance and static methods. Inside static method we can access class level variables by using class name.\n",
    "    \n",
    "    class methods are most rarely used methods in python."
   ]
  },
  {
   "cell_type": "markdown",
   "metadata": {},
   "source": [
    "# Passing Members of One class to another class"
   ]
  },
  {
   "cell_type": "markdown",
   "metadata": {},
   "source": [
    "We can access the members of one class inside another class."
   ]
  },
  {
   "cell_type": "code",
   "execution_count": 14,
   "metadata": {},
   "outputs": [
    {
     "name": "stdout",
     "output_type": "stream",
     "text": [
      "Employee Number is: 100\n",
      "Employee Name is: Venky\n",
      "Employee sal is: 10000\n",
      "\n",
      "Employee Number is: 100\n",
      "Employee Name is: Venky\n",
      "Employee sal is: 20000\n"
     ]
    }
   ],
   "source": [
    "#Example program to passing members of one class to another class.\n",
    "class Employee:\n",
    "    def __init__(self,eno,ename,esal):\n",
    "        self.eno=eno\n",
    "        self.ename=ename\n",
    "        self.esal=esal\n",
    "    def display(self):\n",
    "        print(\"Employee Number is:\",self.eno)\n",
    "        print(\"Employee Name is:\",self.ename)\n",
    "        print(\"Employee sal is:\",self.esal)\n",
    "class Test:\n",
    "    def modify(emp):\n",
    "        emp.esal=emp.esal+10000\n",
    "        emp.display()\n",
    "e=Employee(100,\"Venky\",10000)\n",
    "e.display()\n",
    "print()\n",
    "Test.modify(e)"
   ]
  },
  {
   "cell_type": "markdown",
   "metadata": {},
   "source": [
    "In the above example program employee class members are available to Test class."
   ]
  },
  {
   "cell_type": "markdown",
   "metadata": {},
   "source": [
    "# Inner Classes:"
   ]
  },
  {
   "cell_type": "markdown",
   "metadata": {},
   "source": [
    "Some times we can declare a class inside another class such type of class are called inner classes.\n",
    "\n",
    "Without existing one type of object if there is no chance of existing another type of object, then we should go for inner classes.\n",
    "\n",
    "Example:\n",
    "    Without existing CAR object there is no chance of Existing ENGINE object. Hence ENGINE class should be part of CAR class\n",
    "    \n",
    "    \n",
    "    class CAR:\n",
    "        .......\n",
    "        class ENGINE:\n",
    "            ..........\n",
    "            \n",
    "            \n",
    "    Example-2:\n",
    "        \n",
    "        Without existing UNIVERSITY object there is no chance of existing DEPARTMENT object.\n",
    "        \n",
    "        \n",
    "        class UNIVERSITY:\n",
    "            ...............\n",
    "            class DEPARTMENT:\n",
    "                ................\n",
    "                \n",
    "    \n",
    "    so,\n",
    "        \n",
    "        Without existing outer class  there is no chance of existing inner class object. Hence inner class object is always without outer class object."
   ]
  },
  {
   "cell_type": "code",
   "execution_count": 16,
   "metadata": {},
   "outputs": [
    {
     "name": "stdout",
     "output_type": "stream",
     "text": [
      "Outer class object creation\n",
      "Inner class Object creation\n",
      "Inner class method\n"
     ]
    }
   ],
   "source": [
    "#Example Program for inner and outer classes\n",
    "class outerclass:\n",
    "    def __init__(self):\n",
    "        print(\"Outer class object creation\")\n",
    "    class Innerclass:\n",
    "        def __init__(self):\n",
    "            print(\"Inner class Object creation\")\n",
    "        def m1(self):\n",
    "            print(\"Inner class method\")\n",
    "o=outerclass()\n",
    "i=o.Innerclass()\n",
    "i.m1()"
   ]
  },
  {
   "cell_type": "markdown",
   "metadata": {},
   "source": [
    "Note: The following are various possible syntaxes for calling inner class methods"
   ]
  },
  {
   "cell_type": "code",
   "execution_count": null,
   "metadata": {},
   "outputs": [],
   "source": [
    "1. \n",
    "o=outerclass()\n",
    "i=o.Innerclass()\n",
    "i.m1()\n",
    "\n",
    "2.\n",
    "i=outerclass().Innerclass()\n",
    "i.m1()\n",
    "\n",
    "\n",
    "3.outerclass().Innerclass().m1()\n",
    "\n"
   ]
  },
  {
   "cell_type": "code",
   "execution_count": 18,
   "metadata": {},
   "outputs": [
    {
     "name": "stdout",
     "output_type": "stream",
     "text": [
      "Name of the person is: Venky\n",
      "DoB=29/2/1947\n"
     ]
    }
   ],
   "source": [
    "#Example program for inner and outer classes\n",
    "class Person:\n",
    "    def __init__(self):\n",
    "        self.name=\"Venky\"\n",
    "        self.db=self.DoB()\n",
    "    def display(self):\n",
    "        print(\"Name of the person is:\",self.name)\n",
    "    class DoB:\n",
    "        def __init__(self):\n",
    "            self.day=29\n",
    "            self.month=2\n",
    "            self.year=1947\n",
    "        def display(self):\n",
    "            print(\"DoB={}/{}/{}\".format(self.day,self.month,self.year))\n",
    "p=Person()\n",
    "p.display()\n",
    "x=p.db\n",
    "x.display()"
   ]
  },
  {
   "cell_type": "code",
   "execution_count": null,
   "metadata": {},
   "outputs": [],
   "source": [
    "Note: Inside a class we can declare any number of inner classes"
   ]
  },
  {
   "cell_type": "markdown",
   "metadata": {},
   "source": [
    "# Garbage Collection:"
   ]
  },
  {
   "cell_type": "markdown",
   "metadata": {},
   "source": [
    "We have some assistant which is always running in the background to distroy useless objects. Because this assistant there may be a chance of failing python program with memory problems is very less. This assistant is nothing but Garbage Collector.\n",
    "\n",
    "The main objective of Garbage collector is to destroy useless objects.\n",
    "\n",
    "If any object does not have any reference variable then that object eligible for garbage collector."
   ]
  },
  {
   "cell_type": "markdown",
   "metadata": {},
   "source": [
    "### How to enable and disable Garbage Collector in our program:"
   ]
  },
  {
   "cell_type": "markdown",
   "metadata": {},
   "source": [
    "By default Garbage collector is enabled, but we can disable based on our requirement. In this context we can use the follwing functions of gc module."
   ]
  },
  {
   "cell_type": "code",
   "execution_count": null,
   "metadata": {},
   "outputs": [],
   "source": [
    "1. gc.isenable():\n",
    "    \n",
    "    Returns True if GC enabled\n",
    "\n",
    "2. gc.disabled():\n",
    "    \n",
    "    To disable GC explicitly\n",
    "    \n",
    "3. gc.enable():\n",
    "    \n",
    "    To enable GC explicitly\n",
    "    "
   ]
  },
  {
   "cell_type": "code",
   "execution_count": 21,
   "metadata": {},
   "outputs": [
    {
     "name": "stdout",
     "output_type": "stream",
     "text": [
      "False\n",
      "False\n",
      "True\n"
     ]
    }
   ],
   "source": [
    "#Example program\n",
    "import gc\n",
    "print(gc.isenabled())\n",
    "gc.disable()\n",
    "print(gc.isenabled())\n",
    "gc.enable()\n",
    "print(gc.isenabled())"
   ]
  },
  {
   "cell_type": "markdown",
   "metadata": {},
   "source": [
    "# Destructors:"
   ]
  },
  {
   "cell_type": "markdown",
   "metadata": {},
   "source": [
    "Destructor is a special method and the name should be __del__\n",
    "\n",
    "Just before destroying an object Garbage Collector always calls destrcutor to perform clean up activities (Resource deallocation activities like close datbase connection etc..).\n",
    "\n",
    "Once destructor execution completed then Garbage Collector automatically destroys that object.\n",
    "\n",
    "\n",
    "Note:\n",
    "    The job of destructor is not to destroy object and it is just to perform clean up activities."
   ]
  },
  {
   "cell_type": "code",
   "execution_count": 22,
   "metadata": {},
   "outputs": [
    {
     "name": "stdout",
     "output_type": "stream",
     "text": [
      "Object Initialization....\n",
      "destructor is clean up the activities....\n",
      "End of application\n"
     ]
    }
   ],
   "source": [
    "#Example program for destructor\n",
    "import time\n",
    "class Test:\n",
    "    def __init__(self):\n",
    "        print(\"Object Initialization....\")\n",
    "    def __del__(self):\n",
    "        print(\"destructor is clean up the activities....\")\n",
    "        \n",
    "t1=Test()\n",
    "t1=None\n",
    "time.sleep(5)\n",
    "print(\"End of application\")"
   ]
  },
  {
   "cell_type": "markdown",
   "metadata": {},
   "source": [
    "Note: \n",
    "    If the object does not contain any reference variable then only it is eligible for GC. i.e if the reference count is zero then only objetc eligible for GC."
   ]
  },
  {
   "cell_type": "code",
   "execution_count": 23,
   "metadata": {},
   "outputs": [
    {
     "name": "stdout",
     "output_type": "stream",
     "text": [
      "Constructor execution...\n",
      "object not yet destroyed after deleting t1\n",
      "Object not yet destroyed even after deleting t2\n",
      "I am trying to delete last reference variable...\n",
      "destructor execution....\n"
     ]
    }
   ],
   "source": [
    "#example program....\n",
    "import time\n",
    "class Test:\n",
    "    def __init__(self):\n",
    "        print(\"Constructor execution...\")\n",
    "    def __del__(self):\n",
    "        print(\"destructor execution....\")\n",
    "        \n",
    "t1=Test()\n",
    "t2=t1\n",
    "t3=t2\n",
    "del t1\n",
    "time.sleep(5)\n",
    "print(\"object not yet destroyed after deleting t1\")\n",
    "del t2\n",
    "time.sleep(5)\n",
    "print(\"Object not yet destroyed even after deleting t2\")\n",
    "print(\"I am trying to delete last reference variable...\")\n",
    "del t3"
   ]
  },
  {
   "cell_type": "code",
   "execution_count": null,
   "metadata": {},
   "outputs": [],
   "source": []
  }
 ],
 "metadata": {
  "kernelspec": {
   "display_name": "Python 3",
   "language": "python",
   "name": "python3"
  },
  "language_info": {
   "codemirror_mode": {
    "name": "ipython",
    "version": 3
   },
   "file_extension": ".py",
   "mimetype": "text/x-python",
   "name": "python",
   "nbconvert_exporter": "python",
   "pygments_lexer": "ipython3",
   "version": "3.7.4"
  }
 },
 "nbformat": 4,
 "nbformat_minor": 4
}
